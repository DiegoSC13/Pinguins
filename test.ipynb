{
 "cells": [
  {
   "cell_type": "code",
   "execution_count": 1,
   "metadata": {},
   "outputs": [],
   "source": [
    "from find_pinguins import *"
   ]
  },
  {
   "cell_type": "code",
   "execution_count": 2,
   "metadata": {},
   "outputs": [
    {
     "name": "stdout",
     "output_type": "stream",
     "text": [
      "          X     Y\n",
      "0   1   235  3561\n",
      "1   2   324  3453\n",
      "2   3  2867  2320\n",
      "3   4  1769   438\n",
      "4   5   947  3943\n",
      "5   6     5  3808\n",
      "6   7   168  3699\n",
      "7   8    45  3420\n",
      "8   9  1583  3276\n",
      "9  10   212  2981\n"
     ]
    }
   ],
   "source": [
    "csv_path = '/Users/diegosilveracoeff/Desktop/Fing/IMAGINA/Pinguins/Results_pinguins.csv'\n",
    "coord_list = make_coord_list(csv_path)"
   ]
  },
  {
   "cell_type": "code",
   "execution_count": 3,
   "metadata": {},
   "outputs": [
    {
     "name": "stdout",
     "output_type": "stream",
     "text": [
      "[1, 235, 3561]\n",
      "[2, 324, 3453]\n",
      "[3, 2867, 2320]\n",
      "[4, 1769, 438]\n",
      "[5, 947, 3943]\n",
      "[6, 5, 3808]\n",
      "[7, 168, 3699]\n",
      "[8, 45, 3420]\n",
      "[9, 1583, 3276]\n",
      "[10, 212, 2981]\n"
     ]
    }
   ],
   "source": [
    "half_heigth = 15\n",
    "half_weigth = 15\n",
    "image_path = '/Users/diegosilveracoeff/Desktop/Fing/IMAGINA/Pinguins/Mosaico_nidos_Ardley_Diciembre_2023-4x7.png'\n",
    "coordinates_list = '/Users/diegosilveracoeff/Desktop/Fing/IMAGINA/Pinguins/Results_pinguins.csv'\n",
    "output_path = '/Users/diegosilveracoeff/Desktop/Fing/IMAGINA/Pinguins/Cropped_images'\n",
    "\n",
    "find_pinguins(half_heigth, half_weigth, image_path, coord_list, output_path)"
   ]
  },
  {
   "cell_type": "code",
   "execution_count": null,
   "metadata": {},
   "outputs": [],
   "source": []
  }
 ],
 "metadata": {
  "kernelspec": {
   "display_name": "bioimaging",
   "language": "python",
   "name": "python3"
  },
  "language_info": {
   "codemirror_mode": {
    "name": "ipython",
    "version": 3
   },
   "file_extension": ".py",
   "mimetype": "text/x-python",
   "name": "python",
   "nbconvert_exporter": "python",
   "pygments_lexer": "ipython3",
   "version": "3.12.1"
  }
 },
 "nbformat": 4,
 "nbformat_minor": 2
}
